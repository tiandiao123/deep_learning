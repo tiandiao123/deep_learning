{
 "cells": [
  {
   "cell_type": "code",
   "execution_count": 1,
   "metadata": {
    "collapsed": true
   },
   "outputs": [],
   "source": [
    "import csv\n",
    "import pandas as pd\n",
    "import matplotlib.pyplot as plt\n",
    "import numpy as np"
   ]
  },
  {
   "cell_type": "code",
   "execution_count": 2,
   "metadata": {},
   "outputs": [
    {
     "data": {
      "text/html": [
       "<div>\n",
       "<style scoped>\n",
       "    .dataframe tbody tr th:only-of-type {\n",
       "        vertical-align: middle;\n",
       "    }\n",
       "\n",
       "    .dataframe tbody tr th {\n",
       "        vertical-align: top;\n",
       "    }\n",
       "\n",
       "    .dataframe thead th {\n",
       "        text-align: right;\n",
       "    }\n",
       "</style>\n",
       "<table border=\"1\" class=\"dataframe\">\n",
       "  <thead>\n",
       "    <tr style=\"text-align: right;\">\n",
       "      <th></th>\n",
       "      <th>parcelid</th>\n",
       "      <th>logerror</th>\n",
       "      <th>transactiondate</th>\n",
       "    </tr>\n",
       "  </thead>\n",
       "  <tbody>\n",
       "    <tr>\n",
       "      <th>0</th>\n",
       "      <td>14297519</td>\n",
       "      <td>0.025595</td>\n",
       "      <td>2017-01-01</td>\n",
       "    </tr>\n",
       "    <tr>\n",
       "      <th>1</th>\n",
       "      <td>17052889</td>\n",
       "      <td>0.055619</td>\n",
       "      <td>2017-01-01</td>\n",
       "    </tr>\n",
       "    <tr>\n",
       "      <th>2</th>\n",
       "      <td>14186244</td>\n",
       "      <td>0.005383</td>\n",
       "      <td>2017-01-01</td>\n",
       "    </tr>\n",
       "    <tr>\n",
       "      <th>3</th>\n",
       "      <td>12177905</td>\n",
       "      <td>-0.103410</td>\n",
       "      <td>2017-01-01</td>\n",
       "    </tr>\n",
       "    <tr>\n",
       "      <th>4</th>\n",
       "      <td>10887214</td>\n",
       "      <td>0.006940</td>\n",
       "      <td>2017-01-01</td>\n",
       "    </tr>\n",
       "  </tbody>\n",
       "</table>\n",
       "</div>"
      ],
      "text/plain": [
       "   parcelid  logerror transactiondate\n",
       "0  14297519  0.025595      2017-01-01\n",
       "1  17052889  0.055619      2017-01-01\n",
       "2  14186244  0.005383      2017-01-01\n",
       "3  12177905 -0.103410      2017-01-01\n",
       "4  10887214  0.006940      2017-01-01"
      ]
     },
     "execution_count": 2,
     "metadata": {},
     "output_type": "execute_result"
    }
   ],
   "source": [
    "train_data = pd.read_csv(\"./train_2017.csv\", parse_dates=[\"transactiondate\"])\n",
    "train_data.head()"
   ]
  },
  {
   "cell_type": "code",
   "execution_count": 3,
   "metadata": {},
   "outputs": [
    {
     "name": "stderr",
     "output_type": "stream",
     "text": [
      "/home/cqli/deep_learning/env/lib/python3.5/site-packages/ipykernel_launcher.py:5: DeprecationWarning: \n",
      ".ix is deprecated. Please use\n",
      ".loc for label based indexing or\n",
      ".iloc for positional indexing\n",
      "\n",
      "See the documentation here:\n",
      "http://pandas.pydata.org/pandas-docs/stable/indexing.html#ix-indexer-is-deprecated\n",
      "  \"\"\"\n",
      "/home/cqli/deep_learning/env/lib/python3.5/site-packages/pandas/core/indexing.py:189: SettingWithCopyWarning: \n",
      "A value is trying to be set on a copy of a slice from a DataFrame\n",
      "\n",
      "See the caveats in the documentation: http://pandas.pydata.org/pandas-docs/stable/indexing.html#indexing-view-versus-copy\n",
      "  self._setitem_with_indexer(indexer, value)\n",
      "/home/cqli/deep_learning/env/lib/python3.5/site-packages/ipykernel_launcher.py:6: DeprecationWarning: \n",
      ".ix is deprecated. Please use\n",
      ".loc for label based indexing or\n",
      ".iloc for positional indexing\n",
      "\n",
      "See the documentation here:\n",
      "http://pandas.pydata.org/pandas-docs/stable/indexing.html#ix-indexer-is-deprecated\n",
      "  \n"
     ]
    }
   ],
   "source": [
    "# process bias data : for those data which is far away from our mean value\n",
    "train_df = train_data\n",
    "ulimit = np.percentile(train_df.logerror.values, 99.5)\n",
    "llimit = np.percentile(train_df.logerror.values, 0.5)\n",
    "train_df['logerror'].ix[train_df['logerror']>ulimit] = ulimit\n",
    "train_df['logerror'].ix[train_df['logerror']<llimit] = llimit"
   ]
  },
  {
   "cell_type": "code",
   "execution_count": 4,
   "metadata": {},
   "outputs": [
    {
     "data": {
      "image/png": "[encoded data removed]",
      "text/plain": [
       "<Figure size 864x576 with 1 Axes>"
      ]
     },
     "metadata": {},
     "output_type": "display_data"
    }
   ],
   "source": [
    "plt.figure(figsize=(12,8))\n",
    "plt.hist(train_df.logerror.values, 60)\n",
    "plt.show()"
   ]
  },
  {
   "cell_type": "code",
   "execution_count": 5,
   "metadata": {},
   "outputs": [
    {
     "name": "stdout",
     "output_type": "stream",
     "text": [
      "0.8004549760705607\n",
      "-0.46763610747284\n",
      "0.01528947892874008\n",
      "0.11976070441123617\n"
     ]
    }
   ],
   "source": [
    "print(max(train_df.logerror.values))\n",
    "print(min(train_df.logerror.values))\n",
    "mean_val = 0\n",
    "for ele in train_df.logerror.values:\n",
    "    mean_val += ele\n",
    "print(mean_val/len(train_df.logerror.values))\n",
    "print(np.std(train_df.logerror.values))"
   ]
  },
  {
   "cell_type": "code",
   "execution_count": 7,
   "metadata": {},
   "outputs": [
    {
     "data": {
      "image/png": "[encoded data removed]",
      "text/plain": [
       "<Figure size 864x432 with 1 Axes>"
      ]
     },
     "metadata": {},
     "output_type": "display_data"
    }
   ],
   "source": [
    "import seaborn as sns\n",
    "color = sns.color_palette()\n",
    "train_df['transaction_month'] = train_df['transactiondate'].dt.month\n",
    "\n",
    "cnt_srs = train_df['transaction_month'].value_counts()\n",
    "plt.figure(figsize=(12,6))\n",
    "sns.barplot(cnt_srs.index, cnt_srs.values, alpha=0.8, color=color[1])\n",
    "plt.xticks(rotation='vertical')\n",
    "plt.xlabel('Month of transaction', fontsize=12)\n",
    "plt.ylabel('Number of Occurrences', fontsize=12)\n",
    "plt.show()"
   ]
  },
  {
   "cell_type": "code",
   "execution_count": 8,
   "metadata": {},
   "outputs": [
    {
     "name": "stderr",
     "output_type": "stream",
     "text": [
      "/home/cqli/deep_learning/env/lib/python3.5/site-packages/IPython/core/interactiveshell.py:2698: DtypeWarning: Columns (49) have mixed types. Specify dtype option on import or set low_memory=False.\n",
      "  interactivity=interactivity, compiler=compiler, result=result)\n"
     ]
    },
    {
     "data": {
      "text/plain": [
       "(2985217, 58)"
      ]
     },
     "execution_count": 8,
     "metadata": {},
     "output_type": "execute_result"
    }
   ],
   "source": [
    "prop_df = pd.read_csv(\"properties_2017.csv\")\n",
    "prop_df.shape"
   ]
  },
  {
   "cell_type": "code",
   "execution_count": 9,
   "metadata": {},
   "outputs": [
    {
     "data": {
      "text/html": [
       "<div>\n",
       "<style scoped>\n",
       "    .dataframe tbody tr th:only-of-type {\n",
       "        vertical-align: middle;\n",
       "    }\n",
       "\n",
       "    .dataframe tbody tr th {\n",
       "        vertical-align: top;\n",
       "    }\n",
       "\n",
       "    .dataframe thead th {\n",
       "        text-align: right;\n",
       "    }\n",
       "</style>\n",
       "<table border=\"1\" class=\"dataframe\">\n",
       "  <thead>\n",
       "    <tr style=\"text-align: right;\">\n",
       "      <th></th>\n",
       "      <th>parcelid</th>\n",
       "      <th>airconditioningtypeid</th>\n",
       "      <th>architecturalstyletypeid</th>\n",
       "      <th>basementsqft</th>\n",
       "      <th>bathroomcnt</th>\n",
       "      <th>bedroomcnt</th>\n",
       "      <th>buildingclasstypeid</th>\n",
       "      <th>buildingqualitytypeid</th>\n",
       "      <th>calculatedbathnbr</th>\n",
       "      <th>decktypeid</th>\n",
       "      <th>...</th>\n",
       "      <th>numberofstories</th>\n",
       "      <th>fireplaceflag</th>\n",
       "      <th>structuretaxvaluedollarcnt</th>\n",
       "      <th>taxvaluedollarcnt</th>\n",
       "      <th>assessmentyear</th>\n",
       "      <th>landtaxvaluedollarcnt</th>\n",
       "      <th>taxamount</th>\n",
       "      <th>taxdelinquencyflag</th>\n",
       "      <th>taxdelinquencyyear</th>\n",
       "      <th>censustractandblock</th>\n",
       "    </tr>\n",
       "  </thead>\n",
       "  <tbody>\n",
       "    <tr>\n",
       "      <th>0</th>\n",
       "      <td>10754147</td>\n",
       "      <td>NaN</td>\n",
       "      <td>NaN</td>\n",
       "      <td>NaN</td>\n",
       "      <td>0.0</td>\n",
       "      <td>0.0</td>\n",
       "      <td>NaN</td>\n",
       "      <td>NaN</td>\n",
       "      <td>NaN</td>\n",
       "      <td>NaN</td>\n",
       "      <td>...</td>\n",
       "      <td>NaN</td>\n",
       "      <td>NaN</td>\n",
       "      <td>NaN</td>\n",
       "      <td>9.0</td>\n",
       "      <td>2016.0</td>\n",
       "      <td>9.0</td>\n",
       "      <td>NaN</td>\n",
       "      <td>NaN</td>\n",
       "      <td>NaN</td>\n",
       "      <td>NaN</td>\n",
       "    </tr>\n",
       "    <tr>\n",
       "      <th>1</th>\n",
       "      <td>10759547</td>\n",
       "      <td>NaN</td>\n",
       "      <td>NaN</td>\n",
       "      <td>NaN</td>\n",
       "      <td>0.0</td>\n",
       "      <td>0.0</td>\n",
       "      <td>NaN</td>\n",
       "      <td>NaN</td>\n",
       "      <td>NaN</td>\n",
       "      <td>NaN</td>\n",
       "      <td>...</td>\n",
       "      <td>NaN</td>\n",
       "      <td>NaN</td>\n",
       "      <td>NaN</td>\n",
       "      <td>27516.0</td>\n",
       "      <td>2015.0</td>\n",
       "      <td>27516.0</td>\n",
       "      <td>NaN</td>\n",
       "      <td>NaN</td>\n",
       "      <td>NaN</td>\n",
       "      <td>NaN</td>\n",
       "    </tr>\n",
       "    <tr>\n",
       "      <th>2</th>\n",
       "      <td>10843547</td>\n",
       "      <td>NaN</td>\n",
       "      <td>NaN</td>\n",
       "      <td>NaN</td>\n",
       "      <td>0.0</td>\n",
       "      <td>0.0</td>\n",
       "      <td>5.0</td>\n",
       "      <td>NaN</td>\n",
       "      <td>NaN</td>\n",
       "      <td>NaN</td>\n",
       "      <td>...</td>\n",
       "      <td>1.0</td>\n",
       "      <td>NaN</td>\n",
       "      <td>660680.0</td>\n",
       "      <td>1434941.0</td>\n",
       "      <td>2016.0</td>\n",
       "      <td>774261.0</td>\n",
       "      <td>20800.37</td>\n",
       "      <td>NaN</td>\n",
       "      <td>NaN</td>\n",
       "      <td>NaN</td>\n",
       "    </tr>\n",
       "    <tr>\n",
       "      <th>3</th>\n",
       "      <td>10859147</td>\n",
       "      <td>NaN</td>\n",
       "      <td>NaN</td>\n",
       "      <td>NaN</td>\n",
       "      <td>0.0</td>\n",
       "      <td>0.0</td>\n",
       "      <td>3.0</td>\n",
       "      <td>6.0</td>\n",
       "      <td>NaN</td>\n",
       "      <td>NaN</td>\n",
       "      <td>...</td>\n",
       "      <td>1.0</td>\n",
       "      <td>NaN</td>\n",
       "      <td>580059.0</td>\n",
       "      <td>1174475.0</td>\n",
       "      <td>2016.0</td>\n",
       "      <td>594416.0</td>\n",
       "      <td>14557.57</td>\n",
       "      <td>NaN</td>\n",
       "      <td>NaN</td>\n",
       "      <td>NaN</td>\n",
       "    </tr>\n",
       "    <tr>\n",
       "      <th>4</th>\n",
       "      <td>10879947</td>\n",
       "      <td>NaN</td>\n",
       "      <td>NaN</td>\n",
       "      <td>NaN</td>\n",
       "      <td>0.0</td>\n",
       "      <td>0.0</td>\n",
       "      <td>4.0</td>\n",
       "      <td>NaN</td>\n",
       "      <td>NaN</td>\n",
       "      <td>NaN</td>\n",
       "      <td>...</td>\n",
       "      <td>1.0</td>\n",
       "      <td>NaN</td>\n",
       "      <td>196751.0</td>\n",
       "      <td>440101.0</td>\n",
       "      <td>2016.0</td>\n",
       "      <td>243350.0</td>\n",
       "      <td>5725.17</td>\n",
       "      <td>NaN</td>\n",
       "      <td>NaN</td>\n",
       "      <td>NaN</td>\n",
       "    </tr>\n",
       "  </tbody>\n",
       "</table>\n",
       "<p>5 rows × 58 columns</p>\n",
       "</div>"
      ],
      "text/plain": [
       "   parcelid  airconditioningtypeid  architecturalstyletypeid  basementsqft  \\\n",
       "0  10754147                    NaN                       NaN           NaN   \n",
       "1  10759547                    NaN                       NaN           NaN   \n",
       "2  10843547                    NaN                       NaN           NaN   \n",
       "3  10859147                    NaN                       NaN           NaN   \n",
       "4  10879947                    NaN                       NaN           NaN   \n",
       "\n",
       "   bathroomcnt  bedroomcnt  buildingclasstypeid  buildingqualitytypeid  \\\n",
       "0          0.0         0.0                  NaN                    NaN   \n",
       "1          0.0         0.0                  NaN                    NaN   \n",
       "2          0.0         0.0                  5.0                    NaN   \n",
       "3          0.0         0.0                  3.0                    6.0   \n",
       "4          0.0         0.0                  4.0                    NaN   \n",
       "\n",
       "   calculatedbathnbr  decktypeid         ...           numberofstories  \\\n",
       "0                NaN         NaN         ...                       NaN   \n",
       "1                NaN         NaN         ...                       NaN   \n",
       "2                NaN         NaN         ...                       1.0   \n",
       "3                NaN         NaN         ...                       1.0   \n",
       "4                NaN         NaN         ...                       1.0   \n",
       "\n",
       "   fireplaceflag  structuretaxvaluedollarcnt  taxvaluedollarcnt  \\\n",
       "0            NaN                         NaN                9.0   \n",
       "1            NaN                         NaN            27516.0   \n",
       "2            NaN                    660680.0          1434941.0   \n",
       "3            NaN                    580059.0          1174475.0   \n",
       "4            NaN                    196751.0           440101.0   \n",
       "\n",
       "   assessmentyear  landtaxvaluedollarcnt  taxamount  taxdelinquencyflag  \\\n",
       "0          2016.0                    9.0        NaN                 NaN   \n",
       "1          2015.0                27516.0        NaN                 NaN   \n",
       "2          2016.0               774261.0   20800.37                 NaN   \n",
       "3          2016.0               594416.0   14557.57                 NaN   \n",
       "4          2016.0               243350.0    5725.17                 NaN   \n",
       "\n",
       "   taxdelinquencyyear  censustractandblock  \n",
       "0                 NaN                  NaN  \n",
       "1                 NaN                  NaN  \n",
       "2                 NaN                  NaN  \n",
       "3                 NaN                  NaN  \n",
       "4                 NaN                  NaN  \n",
       "\n",
       "[5 rows x 58 columns]"
      ]
     },
     "execution_count": 9,
     "metadata": {},
     "output_type": "execute_result"
    }
   ],
   "source": [
    "prop_df.head()"
   ]
  },
  {
   "cell_type": "code",
   "execution_count": 10,
   "metadata": {},
   "outputs": [
    {
     "data": {
      "text/html": [
       "<div>\n",
       "<style scoped>\n",
       "    .dataframe tbody tr th:only-of-type {\n",
       "        vertical-align: middle;\n",
       "    }\n",
       "\n",
       "    .dataframe tbody tr th {\n",
       "        vertical-align: top;\n",
       "    }\n",
       "\n",
       "    .dataframe thead th {\n",
       "        text-align: right;\n",
       "    }\n",
       "</style>\n",
       "<table border=\"1\" class=\"dataframe\">\n",
       "  <thead>\n",
       "    <tr style=\"text-align: right;\">\n",
       "      <th></th>\n",
       "      <th>parcelid</th>\n",
       "      <th>logerror</th>\n",
       "      <th>transactiondate</th>\n",
       "      <th>transaction_month</th>\n",
       "      <th>airconditioningtypeid</th>\n",
       "      <th>architecturalstyletypeid</th>\n",
       "      <th>basementsqft</th>\n",
       "      <th>bathroomcnt</th>\n",
       "      <th>bedroomcnt</th>\n",
       "      <th>buildingclasstypeid</th>\n",
       "      <th>...</th>\n",
       "      <th>numberofstories</th>\n",
       "      <th>fireplaceflag</th>\n",
       "      <th>structuretaxvaluedollarcnt</th>\n",
       "      <th>taxvaluedollarcnt</th>\n",
       "      <th>assessmentyear</th>\n",
       "      <th>landtaxvaluedollarcnt</th>\n",
       "      <th>taxamount</th>\n",
       "      <th>taxdelinquencyflag</th>\n",
       "      <th>taxdelinquencyyear</th>\n",
       "      <th>censustractandblock</th>\n",
       "    </tr>\n",
       "  </thead>\n",
       "  <tbody>\n",
       "    <tr>\n",
       "      <th>0</th>\n",
       "      <td>14297519</td>\n",
       "      <td>0.025595</td>\n",
       "      <td>2017-01-01</td>\n",
       "      <td>1</td>\n",
       "      <td>NaN</td>\n",
       "      <td>NaN</td>\n",
       "      <td>NaN</td>\n",
       "      <td>3.5</td>\n",
       "      <td>4.0</td>\n",
       "      <td>NaN</td>\n",
       "      <td>...</td>\n",
       "      <td>NaN</td>\n",
       "      <td>NaN</td>\n",
       "      <td>485713.0</td>\n",
       "      <td>1023282.0</td>\n",
       "      <td>2016.0</td>\n",
       "      <td>537569.0</td>\n",
       "      <td>11013.72</td>\n",
       "      <td>NaN</td>\n",
       "      <td>NaN</td>\n",
       "      <td>6.059063e+13</td>\n",
       "    </tr>\n",
       "    <tr>\n",
       "      <th>1</th>\n",
       "      <td>17052889</td>\n",
       "      <td>0.055619</td>\n",
       "      <td>2017-01-01</td>\n",
       "      <td>1</td>\n",
       "      <td>NaN</td>\n",
       "      <td>NaN</td>\n",
       "      <td>NaN</td>\n",
       "      <td>1.0</td>\n",
       "      <td>2.0</td>\n",
       "      <td>NaN</td>\n",
       "      <td>...</td>\n",
       "      <td>1.0</td>\n",
       "      <td>NaN</td>\n",
       "      <td>88000.0</td>\n",
       "      <td>464000.0</td>\n",
       "      <td>2016.0</td>\n",
       "      <td>376000.0</td>\n",
       "      <td>5672.48</td>\n",
       "      <td>NaN</td>\n",
       "      <td>NaN</td>\n",
       "      <td>6.111001e+13</td>\n",
       "    </tr>\n",
       "    <tr>\n",
       "      <th>2</th>\n",
       "      <td>14186244</td>\n",
       "      <td>0.005383</td>\n",
       "      <td>2017-01-01</td>\n",
       "      <td>1</td>\n",
       "      <td>NaN</td>\n",
       "      <td>NaN</td>\n",
       "      <td>NaN</td>\n",
       "      <td>2.0</td>\n",
       "      <td>3.0</td>\n",
       "      <td>NaN</td>\n",
       "      <td>...</td>\n",
       "      <td>1.0</td>\n",
       "      <td>NaN</td>\n",
       "      <td>85289.0</td>\n",
       "      <td>564778.0</td>\n",
       "      <td>2016.0</td>\n",
       "      <td>479489.0</td>\n",
       "      <td>6488.30</td>\n",
       "      <td>NaN</td>\n",
       "      <td>NaN</td>\n",
       "      <td>6.059022e+13</td>\n",
       "    </tr>\n",
       "    <tr>\n",
       "      <th>3</th>\n",
       "      <td>12177905</td>\n",
       "      <td>-0.103410</td>\n",
       "      <td>2017-01-01</td>\n",
       "      <td>1</td>\n",
       "      <td>NaN</td>\n",
       "      <td>NaN</td>\n",
       "      <td>NaN</td>\n",
       "      <td>3.0</td>\n",
       "      <td>4.0</td>\n",
       "      <td>NaN</td>\n",
       "      <td>...</td>\n",
       "      <td>NaN</td>\n",
       "      <td>NaN</td>\n",
       "      <td>108918.0</td>\n",
       "      <td>145143.0</td>\n",
       "      <td>2016.0</td>\n",
       "      <td>36225.0</td>\n",
       "      <td>1777.51</td>\n",
       "      <td>NaN</td>\n",
       "      <td>NaN</td>\n",
       "      <td>6.037300e+13</td>\n",
       "    </tr>\n",
       "    <tr>\n",
       "      <th>4</th>\n",
       "      <td>10887214</td>\n",
       "      <td>0.006940</td>\n",
       "      <td>2017-01-01</td>\n",
       "      <td>1</td>\n",
       "      <td>1.0</td>\n",
       "      <td>NaN</td>\n",
       "      <td>NaN</td>\n",
       "      <td>3.0</td>\n",
       "      <td>3.0</td>\n",
       "      <td>NaN</td>\n",
       "      <td>...</td>\n",
       "      <td>NaN</td>\n",
       "      <td>NaN</td>\n",
       "      <td>73681.0</td>\n",
       "      <td>119407.0</td>\n",
       "      <td>2016.0</td>\n",
       "      <td>45726.0</td>\n",
       "      <td>1533.89</td>\n",
       "      <td>NaN</td>\n",
       "      <td>NaN</td>\n",
       "      <td>6.037124e+13</td>\n",
       "    </tr>\n",
       "  </tbody>\n",
       "</table>\n",
       "<p>5 rows × 61 columns</p>\n",
       "</div>"
      ],
      "text/plain": [
       "   parcelid  logerror transactiondate  transaction_month  \\\n",
       "0  14297519  0.025595      2017-01-01                  1   \n",
       "1  17052889  0.055619      2017-01-01                  1   \n",
       "2  14186244  0.005383      2017-01-01                  1   \n",
       "3  12177905 -0.103410      2017-01-01                  1   \n",
       "4  10887214  0.006940      2017-01-01                  1   \n",
       "\n",
       "   airconditioningtypeid  architecturalstyletypeid  basementsqft  bathroomcnt  \\\n",
       "0                    NaN                       NaN           NaN          3.5   \n",
       "1                    NaN                       NaN           NaN          1.0   \n",
       "2                    NaN                       NaN           NaN          2.0   \n",
       "3                    NaN                       NaN           NaN          3.0   \n",
       "4                    1.0                       NaN           NaN          3.0   \n",
       "\n",
       "   bedroomcnt  buildingclasstypeid         ...           numberofstories  \\\n",
       "0         4.0                  NaN         ...                       NaN   \n",
       "1         2.0                  NaN         ...                       1.0   \n",
       "2         3.0                  NaN         ...                       1.0   \n",
       "3         4.0                  NaN         ...                       NaN   \n",
       "4         3.0                  NaN         ...                       NaN   \n",
       "\n",
       "   fireplaceflag  structuretaxvaluedollarcnt  taxvaluedollarcnt  \\\n",
       "0            NaN                    485713.0          1023282.0   \n",
       "1            NaN                     88000.0           464000.0   \n",
       "2            NaN                     85289.0           564778.0   \n",
       "3            NaN                    108918.0           145143.0   \n",
       "4            NaN                     73681.0           119407.0   \n",
       "\n",
       "   assessmentyear  landtaxvaluedollarcnt  taxamount  taxdelinquencyflag  \\\n",
       "0          2016.0               537569.0   11013.72                 NaN   \n",
       "1          2016.0               376000.0    5672.48                 NaN   \n",
       "2          2016.0               479489.0    6488.30                 NaN   \n",
       "3          2016.0                36225.0    1777.51                 NaN   \n",
       "4          2016.0                45726.0    1533.89                 NaN   \n",
       "\n",
       "   taxdelinquencyyear  censustractandblock  \n",
       "0                 NaN         6.059063e+13  \n",
       "1                 NaN         6.111001e+13  \n",
       "2                 NaN         6.059022e+13  \n",
       "3                 NaN         6.037300e+13  \n",
       "4                 NaN         6.037124e+13  \n",
       "\n",
       "[5 rows x 61 columns]"
      ]
     },
     "execution_count": 10,
     "metadata": {},
     "output_type": "execute_result"
    }
   ],
   "source": [
    "train_df = pd.merge(train_df, prop_df, on='parcelid', how='left')\n",
    "train_df.head()"
   ]
  },
  {
   "cell_type": "code",
   "execution_count": 11,
   "metadata": {
    "collapsed": true
   },
   "outputs": [],
   "source": [
    "# handle missing values in out table! Insert mean values in our table!\n",
    "mean_values = train_df.mean(axis=0)\n",
    "train_df.fillna(mean_values, inplace=True)"
   ]
  },
  {
   "cell_type": "code",
   "execution_count": 12,
   "metadata": {},
   "outputs": [
    {
     "data": {
      "text/html": [
       "<div>\n",
       "<style scoped>\n",
       "    .dataframe tbody tr th:only-of-type {\n",
       "        vertical-align: middle;\n",
       "    }\n",
       "\n",
       "    .dataframe tbody tr th {\n",
       "        vertical-align: top;\n",
       "    }\n",
       "\n",
       "    .dataframe thead th {\n",
       "        text-align: right;\n",
       "    }\n",
       "</style>\n",
       "<table border=\"1\" class=\"dataframe\">\n",
       "  <thead>\n",
       "    <tr style=\"text-align: right;\">\n",
       "      <th></th>\n",
       "      <th>parcelid</th>\n",
       "      <th>logerror</th>\n",
       "      <th>transactiondate</th>\n",
       "      <th>transaction_month</th>\n",
       "      <th>airconditioningtypeid</th>\n",
       "      <th>architecturalstyletypeid</th>\n",
       "      <th>basementsqft</th>\n",
       "      <th>bathroomcnt</th>\n",
       "      <th>bedroomcnt</th>\n",
       "      <th>buildingclasstypeid</th>\n",
       "      <th>...</th>\n",
       "      <th>numberofstories</th>\n",
       "      <th>fireplaceflag</th>\n",
       "      <th>structuretaxvaluedollarcnt</th>\n",
       "      <th>taxvaluedollarcnt</th>\n",
       "      <th>assessmentyear</th>\n",
       "      <th>landtaxvaluedollarcnt</th>\n",
       "      <th>taxamount</th>\n",
       "      <th>taxdelinquencyflag</th>\n",
       "      <th>taxdelinquencyyear</th>\n",
       "      <th>censustractandblock</th>\n",
       "    </tr>\n",
       "  </thead>\n",
       "  <tbody>\n",
       "    <tr>\n",
       "      <th>0</th>\n",
       "      <td>14297519</td>\n",
       "      <td>0.025595</td>\n",
       "      <td>2017-01-01</td>\n",
       "      <td>1</td>\n",
       "      <td>1.812013</td>\n",
       "      <td>7.386473</td>\n",
       "      <td>679.72</td>\n",
       "      <td>3.5</td>\n",
       "      <td>4.0</td>\n",
       "      <td>3.933333</td>\n",
       "      <td>...</td>\n",
       "      <td>1.434286</td>\n",
       "      <td>1</td>\n",
       "      <td>485713.0</td>\n",
       "      <td>1023282.0</td>\n",
       "      <td>2016.0</td>\n",
       "      <td>537569.0</td>\n",
       "      <td>11013.72</td>\n",
       "      <td>NaN</td>\n",
       "      <td>14.088276</td>\n",
       "      <td>6.059063e+13</td>\n",
       "    </tr>\n",
       "    <tr>\n",
       "      <th>1</th>\n",
       "      <td>17052889</td>\n",
       "      <td>0.055619</td>\n",
       "      <td>2017-01-01</td>\n",
       "      <td>1</td>\n",
       "      <td>1.812013</td>\n",
       "      <td>7.386473</td>\n",
       "      <td>679.72</td>\n",
       "      <td>1.0</td>\n",
       "      <td>2.0</td>\n",
       "      <td>3.933333</td>\n",
       "      <td>...</td>\n",
       "      <td>1.000000</td>\n",
       "      <td>1</td>\n",
       "      <td>88000.0</td>\n",
       "      <td>464000.0</td>\n",
       "      <td>2016.0</td>\n",
       "      <td>376000.0</td>\n",
       "      <td>5672.48</td>\n",
       "      <td>NaN</td>\n",
       "      <td>14.088276</td>\n",
       "      <td>6.111001e+13</td>\n",
       "    </tr>\n",
       "    <tr>\n",
       "      <th>2</th>\n",
       "      <td>14186244</td>\n",
       "      <td>0.005383</td>\n",
       "      <td>2017-01-01</td>\n",
       "      <td>1</td>\n",
       "      <td>1.812013</td>\n",
       "      <td>7.386473</td>\n",
       "      <td>679.72</td>\n",
       "      <td>2.0</td>\n",
       "      <td>3.0</td>\n",
       "      <td>3.933333</td>\n",
       "      <td>...</td>\n",
       "      <td>1.000000</td>\n",
       "      <td>1</td>\n",
       "      <td>85289.0</td>\n",
       "      <td>564778.0</td>\n",
       "      <td>2016.0</td>\n",
       "      <td>479489.0</td>\n",
       "      <td>6488.30</td>\n",
       "      <td>NaN</td>\n",
       "      <td>14.088276</td>\n",
       "      <td>6.059022e+13</td>\n",
       "    </tr>\n",
       "    <tr>\n",
       "      <th>3</th>\n",
       "      <td>12177905</td>\n",
       "      <td>-0.103410</td>\n",
       "      <td>2017-01-01</td>\n",
       "      <td>1</td>\n",
       "      <td>1.812013</td>\n",
       "      <td>7.386473</td>\n",
       "      <td>679.72</td>\n",
       "      <td>3.0</td>\n",
       "      <td>4.0</td>\n",
       "      <td>3.933333</td>\n",
       "      <td>...</td>\n",
       "      <td>1.434286</td>\n",
       "      <td>1</td>\n",
       "      <td>108918.0</td>\n",
       "      <td>145143.0</td>\n",
       "      <td>2016.0</td>\n",
       "      <td>36225.0</td>\n",
       "      <td>1777.51</td>\n",
       "      <td>NaN</td>\n",
       "      <td>14.088276</td>\n",
       "      <td>6.037300e+13</td>\n",
       "    </tr>\n",
       "    <tr>\n",
       "      <th>4</th>\n",
       "      <td>10887214</td>\n",
       "      <td>0.006940</td>\n",
       "      <td>2017-01-01</td>\n",
       "      <td>1</td>\n",
       "      <td>1.000000</td>\n",
       "      <td>7.386473</td>\n",
       "      <td>679.72</td>\n",
       "      <td>3.0</td>\n",
       "      <td>3.0</td>\n",
       "      <td>3.933333</td>\n",
       "      <td>...</td>\n",
       "      <td>1.434286</td>\n",
       "      <td>1</td>\n",
       "      <td>73681.0</td>\n",
       "      <td>119407.0</td>\n",
       "      <td>2016.0</td>\n",
       "      <td>45726.0</td>\n",
       "      <td>1533.89</td>\n",
       "      <td>NaN</td>\n",
       "      <td>14.088276</td>\n",
       "      <td>6.037124e+13</td>\n",
       "    </tr>\n",
       "  </tbody>\n",
       "</table>\n",
       "<p>5 rows × 61 columns</p>\n",
       "</div>"
      ],
      "text/plain": [
       "   parcelid  logerror transactiondate  transaction_month  \\\n",
       "0  14297519  0.025595      2017-01-01                  1   \n",
       "1  17052889  0.055619      2017-01-01                  1   \n",
       "2  14186244  0.005383      2017-01-01                  1   \n",
       "3  12177905 -0.103410      2017-01-01                  1   \n",
       "4  10887214  0.006940      2017-01-01                  1   \n",
       "\n",
       "   airconditioningtypeid  architecturalstyletypeid  basementsqft  bathroomcnt  \\\n",
       "0               1.812013                  7.386473        679.72          3.5   \n",
       "1               1.812013                  7.386473        679.72          1.0   \n",
       "2               1.812013                  7.386473        679.72          2.0   \n",
       "3               1.812013                  7.386473        679.72          3.0   \n",
       "4               1.000000                  7.386473        679.72          3.0   \n",
       "\n",
       "   bedroomcnt  buildingclasstypeid         ...           numberofstories  \\\n",
       "0         4.0             3.933333         ...                  1.434286   \n",
       "1         2.0             3.933333         ...                  1.000000   \n",
       "2         3.0             3.933333         ...                  1.000000   \n",
       "3         4.0             3.933333         ...                  1.434286   \n",
       "4         3.0             3.933333         ...                  1.434286   \n",
       "\n",
       "   fireplaceflag  structuretaxvaluedollarcnt  taxvaluedollarcnt  \\\n",
       "0              1                    485713.0          1023282.0   \n",
       "1              1                     88000.0           464000.0   \n",
       "2              1                     85289.0           564778.0   \n",
       "3              1                    108918.0           145143.0   \n",
       "4              1                     73681.0           119407.0   \n",
       "\n",
       "   assessmentyear  landtaxvaluedollarcnt  taxamount  taxdelinquencyflag  \\\n",
       "0          2016.0               537569.0   11013.72                 NaN   \n",
       "1          2016.0               376000.0    5672.48                 NaN   \n",
       "2          2016.0               479489.0    6488.30                 NaN   \n",
       "3          2016.0                36225.0    1777.51                 NaN   \n",
       "4          2016.0                45726.0    1533.89                 NaN   \n",
       "\n",
       "   taxdelinquencyyear  censustractandblock  \n",
       "0           14.088276         6.059063e+13  \n",
       "1           14.088276         6.111001e+13  \n",
       "2           14.088276         6.059022e+13  \n",
       "3           14.088276         6.037300e+13  \n",
       "4           14.088276         6.037124e+13  \n",
       "\n",
       "[5 rows x 61 columns]"
      ]
     },
     "execution_count": 12,
     "metadata": {},
     "output_type": "execute_result"
    }
   ],
   "source": [
    "train_df.head()"
   ]
  },
  {
   "cell_type": "code",
   "execution_count": 13,
   "metadata": {},
   "outputs": [
    {
     "name": "stderr",
     "output_type": "stream",
     "text": [
      "/home/cqli/deep_learning/env/lib/python3.5/site-packages/numpy/lib/function_base.py:2400: RuntimeWarning: invalid value encountered in true_divide\n",
      "  c /= stddev[:, None]\n",
      "/home/cqli/deep_learning/env/lib/python3.5/site-packages/numpy/lib/function_base.py:2401: RuntimeWarning: invalid value encountered in true_divide\n",
      "  c /= stddev[None, :]\n"
     ]
    }
   ],
   "source": [
    "import math\n",
    "columns = []\n",
    "for col in train_df.columns:\n",
    "    if col != 'logerror' and train_df[col].dtype == 'float64':\n",
    "        columns.append(col)\n",
    "\n",
    "correlations = []\n",
    "for col_name in columns:\n",
    "    correlations.append(np.corrcoef(train_df[col_name].values, train_df.logerror.values)[0,1])\n",
    "\n",
    "values = []\n",
    "labels = []\n",
    "for i in range(len(columns)):\n",
    "    if math.isnan(correlations[i]) == False:\n",
    "        labels.append(columns[i])\n",
    "        values.append(correlations[i])"
   ]
  },
  {
   "cell_type": "code",
   "execution_count": 14,
   "metadata": {},
   "outputs": [
    {
     "name": "stdout",
     "output_type": "stream",
     "text": [
      "finishedsquarefeet12 : 0.04458437654847187\n",
      "calculatedfinishedsquarefeet : 0.04009675106018118\n",
      "bedroomcnt : 0.033205392488781\n",
      "calculatedbathnbr : 0.028883533452357654\n",
      "bathroomcnt : 0.027065219063879202\n",
      "fullbathcnt : 0.026391321986994426\n",
      "taxdelinquencyyear : -0.023927079111269477\n",
      "garagetotalsqft : 0.020214390195099314\n",
      "roomcnt : 0.01702950911937327\n",
      "garagecarcnt : 0.016021870040539527\n",
      "regionidcounty : -0.015008738361252997\n",
      "basementsqft : 0.013696666311620843\n",
      "buildingqualitytypeid : -0.013259950606916796\n",
      "buildingclasstypeid : 0.012809585584749044\n",
      "finishedsquarefeet15 : -0.01088050193216351\n",
      "longitude : 0.010628875463839631\n",
      "fips : 0.010354330104257091\n",
      "rawcensustractandblock : 0.010272907212325905\n",
      "threequarterbathnbr : 0.009850234901192348\n",
      "lotsizesquarefeet : 0.00940782043986878\n",
      "yardbuildingsqft17 : -0.008104927321023093\n",
      "latitude : -0.007885735359133603\n",
      "finishedsquarefeet50 : -0.006864095251253614\n",
      "censustractandblock : 0.0066515306973398336\n",
      "airconditioningtypeid : 0.006074959834760535\n",
      "propertylandusetypeid : -0.005855751716965174\n",
      "fireplacecnt : 0.005475921941755078\n",
      "finishedfloor1squarefeet : -0.005324437808943156\n",
      "structuretaxvaluedollarcnt : 0.005270972792120717\n",
      "regionidneighborhood : -0.004976423210687814\n",
      "yearbuilt : 0.004698354293916106\n",
      "heatingorsystemtypeid : -0.004454886922006509\n",
      "finishedsquarefeet13 : -0.004050781213979676\n",
      "numberofstories : 0.003367569365510138\n",
      "regionidcity : -0.002223061654853239\n",
      "landtaxvaluedollarcnt : -0.0018420030269213495\n",
      "finishedsquarefeet6 : 0.001701401154290321\n",
      "regionidzip : -0.0012100042055098066\n",
      "poolsizesum : 0.0010256658432084835\n",
      "yardbuildingsqft26 : -0.0009865981198931269\n",
      "taxamount : -0.0008140992779599053\n",
      "architecturalstyletypeid : -0.0005601968361064968\n",
      "taxvaluedollarcnt : 0.0005296782823924165\n",
      "unitcnt : 7.45152992987318e-05\n",
      "typeconstructiontypeid : -1.7702349030243537e-05\n"
     ]
    }
   ],
   "source": [
    "class Node(object):\n",
    "    def __init__(self, x, y):\n",
    "        self.value = x\n",
    "        self.col_name = y\n",
    "nodes = []\n",
    "for i in range(len(values)):\n",
    "    t = Node(values[i], labels[i])\n",
    "    nodes.append(t)\n",
    "nodes.sort(key=lambda x: abs(x.value), reverse = True)\n",
    "for node in nodes:\n",
    "    print(\"{} : {}\".format(node.col_name, node.value))"
   ]
  },
  {
   "cell_type": "code",
   "execution_count": 18,
   "metadata": {},
   "outputs": [],
   "source": [
    "labels = []\n",
    "values = []\n",
    "for node in nodes:\n",
    "    labels.append(node.col_name)\n",
    "    values.append(node.value)\n",
    "corr_df = pd.DataFrame({'col_labels':labels, 'corr_values':values})\n",
    "corr_df = corr_df.sort_values(by='corr_values')\n",
    "    \n",
    "ind = np.arange(len(labels))\n",
    "width = 0.9\n",
    "fig, ax = plt.subplots(figsize=(30,40))\n",
    "rects = ax.barh(ind, np.array(corr_df.corr_values.values), color='y')\n",
    "ax.set_yticks(ind)\n",
    "ax.set_yticklabels(corr_df.col_labels.values, rotation='horizontal')\n",
    "ax.set_xlabel(\"Correlation coefficient values\")\n",
    "ax.set_title(\"Correlation coefficient of the variables\")\n",
    "#autolabel(rects)\n",
    "plt.savefig(\"hhh.png\")"
   ]
  },
  {
   "cell_type": "markdown",
   "metadata": {
    "collapsed": true
   },
   "source": [
    "### let's define train our model using gradient boosting regression tree algorithms\n",
    "### first of all, we can just consider all of features to fit our model, even though the training took long time, but it is a good start for exploration\n",
    "### first of all, we need to divide the data set into trainning data set and test data set"
   ]
  },
  {
   "cell_type": "code",
   "execution_count": 12,
   "metadata": {
    "collapsed": true
   },
   "outputs": [],
   "source": [
    "train_y = train_df['logerror'].values\n",
    "select_columns = []\n",
    "for node in nodes:\n",
    "    select_columns.append(node.col_name)\n",
    "train_df = train_df[select_columns]\n",
    "y_train = train_y[int(len(train_df)*0.1): len(train_df)]\n",
    "X_train = train_df[int(len(train_df)*0.1): len(train_df)]\n",
    "\n",
    "(test_df, test_y) = (train_df[0:int(len(train_df)*0.1)], train_y[0:int(len(train_df)*0.1)])\n",
    "y_test = test_y\n",
    "X_test = test_df"
   ]
  },
  {
   "cell_type": "markdown",
   "metadata": {},
   "source": [
    "### we can train our model based on gradient boosting algorithms"
   ]
  },
  {
   "cell_type": "code",
   "execution_count": 13,
   "metadata": {},
   "outputs": [
    {
     "data": {
      "text/plain": [
       "GradientBoostingRegressor(alpha=0.9, criterion='friedman_mse', init=None,\n",
       "             learning_rate=0.01, loss='ls', max_depth=20,\n",
       "             max_features=None, max_leaf_nodes=None,\n",
       "             min_impurity_decrease=0.0, min_impurity_split=None,\n",
       "             min_samples_leaf=1, min_samples_split=2,\n",
       "             min_weight_fraction_leaf=0.0, n_estimators=100,\n",
       "             n_iter_no_change=None, presort='auto', random_state=0,\n",
       "             subsample=1.0, tol=0.0001, validation_fraction=0.1, verbose=0,\n",
       "             warm_start=False)"
      ]
     },
     "execution_count": 13,
     "metadata": {},
     "output_type": "execute_result"
    }
   ],
   "source": [
    "from sklearn.ensemble import GradientBoostingRegressor\n",
    "from sklearn.metrics import mean_squared_error\n",
    "model = GradientBoostingRegressor(n_estimators=100, learning_rate=0.01, max_depth=20, random_state=0, loss='ls')\n",
    "model.fit(X_train, y_train)"
   ]
  },
  {
   "cell_type": "code",
   "execution_count": 14,
   "metadata": {},
   "outputs": [
    {
     "name": "stdout",
     "output_type": "stream",
     "text": [
      "0.01617276470299638\n"
     ]
    }
   ],
   "source": [
    "# mean squre result of above model:\n",
    "print(mean_squared_error(y_test, model.predict(X_test)))"
   ]
  },
  {
   "cell_type": "code",
   "execution_count": 15,
   "metadata": {},
   "outputs": [
    {
     "data": {
      "image/png": "[encoded data removed]",
      "text/plain": [
       "<Figure size 432x288 with 1 Axes>"
      ]
     },
     "metadata": {},
     "output_type": "display_data"
    }
   ],
   "source": [
    "y_test_predicts = model.predict(X_test)[0:100]\n",
    "plt.figure(1)\n",
    "plt.plot(np.arange(100), y_test_predicts, 'bo', np.arange(100), y_test[0:100], 'g^')\n",
    "plt.show()"
   ]
  },
  {
   "cell_type": "code",
   "execution_count": 16,
   "metadata": {},
   "outputs": [
    {
     "data": {
      "text/plain": [
       "GradientBoostingRegressor(alpha=0.9, criterion='friedman_mse', init=None,\n",
       "             learning_rate=0.01, loss='ls', max_depth=35,\n",
       "             max_features=None, max_leaf_nodes=None,\n",
       "             min_impurity_decrease=0.0, min_impurity_split=None,\n",
       "             min_samples_leaf=1, min_samples_split=2,\n",
       "             min_weight_fraction_leaf=0.0, n_estimators=20,\n",
       "             n_iter_no_change=None, presort='auto', random_state=0,\n",
       "             subsample=1.0, tol=0.0001, validation_fraction=0.1, verbose=0,\n",
       "             warm_start=False)"
      ]
     },
     "execution_count": 16,
     "metadata": {},
     "output_type": "execute_result"
    }
   ],
   "source": [
    "# we can train our model to adjust parameters of parameters, since we need to increase variance of our model \n",
    "model = GradientBoostingRegressor(n_estimators = 20, learning_rate=0.01, max_depth=35, random_state=0, loss='ls')\n",
    "model.fit(X_train, y_train)"
   ]
  },
  {
   "cell_type": "code",
   "execution_count": 17,
   "metadata": {},
   "outputs": [
    {
     "name": "stdout",
     "output_type": "stream",
     "text": [
      "0.016190550563331598\n"
     ]
    }
   ],
   "source": [
    "# mean squre result of above model:\n",
    "print(mean_squared_error(y_test, model.predict(X_test)))"
   ]
  },
  {
   "cell_type": "code",
   "execution_count": 18,
   "metadata": {},
   "outputs": [
    {
     "data": {
      "image/png": "[encoded data removed]",
      "text/plain": [
       "<Figure size 432x288 with 1 Axes>"
      ]
     },
     "metadata": {},
     "output_type": "display_data"
    }
   ],
   "source": [
    "y_test_predicts = model.predict(X_test)[0:100]\n",
    "plt.figure(1)\n",
    "plt.plot(np.arange(100), y_test_predicts, 'bo', np.arange(100), y_test[0:100], 'g^')\n",
    "plt.show()"
   ]
  },
  {
   "cell_type": "code",
   "execution_count": 22,
   "metadata": {},
   "outputs": [
    {
     "name": "stdout",
     "output_type": "stream",
     "text": [
      "finishedsquarefeet12 : 0.04458437654847187\n",
      "calculatedfinishedsquarefeet : 0.04009675106018118\n",
      "bedroomcnt : 0.033205392488781\n",
      "calculatedbathnbr : 0.028883533452357654\n",
      "bathroomcnt : 0.027065219063879202\n",
      "fullbathcnt : 0.026391321986994426\n",
      "garagetotalsqft : 0.020214390195099314\n",
      "roomcnt : 0.01702950911937327\n",
      "garagecarcnt : 0.016021870040539527\n",
      "basementsqft : 0.013696666311620843\n",
      "buildingclasstypeid : 0.012809585584749044\n",
      "longitude : 0.010628875463839631\n",
      "fips : 0.010354330104257091\n",
      "rawcensustractandblock : 0.010272907212325905\n",
      "threequarterbathnbr : 0.009850234901192348\n",
      "lotsizesquarefeet : 0.00940782043986878\n",
      "censustractandblock : 0.0066515306973398336\n",
      "airconditioningtypeid : 0.006074959834760535\n",
      "fireplacecnt : 0.005475921941755078\n",
      "structuretaxvaluedollarcnt : 0.005270972792120717\n",
      "yearbuilt : 0.004698354293916106\n",
      "numberofstories : 0.003367569365510138\n",
      "finishedsquarefeet6 : 0.001701401154290321\n",
      "poolsizesum : 0.0010256658432084835\n",
      "taxvaluedollarcnt : 0.0005296782823924165\n",
      "unitcnt : 7.45152992987318e-05\n",
      "typeconstructiontypeid : -1.7702349030243537e-05\n",
      "architecturalstyletypeid : -0.0005601968361064968\n",
      "taxamount : -0.0008140992779599053\n",
      "yardbuildingsqft26 : -0.0009865981198931269\n",
      "regionidzip : -0.0012100042055098066\n",
      "landtaxvaluedollarcnt : -0.0018420030269213495\n",
      "regionidcity : -0.002223061654853239\n",
      "finishedsquarefeet13 : -0.004050781213979676\n",
      "heatingorsystemtypeid : -0.004454886922006509\n",
      "regionidneighborhood : -0.004976423210687814\n",
      "finishedfloor1squarefeet : -0.005324437808943156\n",
      "propertylandusetypeid : -0.005855751716965174\n",
      "finishedsquarefeet50 : -0.006864095251253614\n",
      "latitude : -0.007885735359133603\n",
      "yardbuildingsqft17 : -0.008104927321023093\n",
      "finishedsquarefeet15 : -0.01088050193216351\n",
      "buildingqualitytypeid : -0.013259950606916796\n",
      "regionidcounty : -0.015008738361252997\n",
      "taxdelinquencyyear : -0.023927079111269477\n"
     ]
    }
   ],
   "source": [
    "# now, let's think about this question, since we have studies covariance matrix with respect to features and logerror\n",
    "# so, we can select the most significant features who have largest covariances\n",
    "nodes.sort(key=lambda x: x.value, reverse = True)\n",
    "for node in nodes:\n",
    "    print(\"{} : {}\".format(node.col_name, node.value))"
   ]
  },
  {
   "cell_type": "code",
   "execution_count": 23,
   "metadata": {},
   "outputs": [
    {
     "data": {
      "text/plain": [
       "['finishedsquarefeet12',\n",
       " 'calculatedfinishedsquarefeet',\n",
       " 'bedroomcnt',\n",
       " 'calculatedbathnbr',\n",
       " 'bathroomcnt',\n",
       " 'fullbathcnt',\n",
       " 'garagetotalsqft',\n",
       " 'roomcnt',\n",
       " 'garagecarcnt',\n",
       " 'basementsqft',\n",
       " 'buildingclasstypeid',\n",
       " 'longitude',\n",
       " 'fips']"
      ]
     },
     "execution_count": 23,
     "metadata": {},
     "output_type": "execute_result"
    }
   ],
   "source": [
    "select_columns_features = []\n",
    "index = 0\n",
    "for node in nodes:\n",
    "    if index <= 12:\n",
    "        select_columns_features.append(node.col_name)\n",
    "    index += 1\n",
    "    \n",
    "select_columns_features"
   ]
  },
  {
   "cell_type": "code",
   "execution_count": 27,
   "metadata": {},
   "outputs": [
    {
     "data": {
      "text/html": [
       "<div>\n",
       "<style scoped>\n",
       "    .dataframe tbody tr th:only-of-type {\n",
       "        vertical-align: middle;\n",
       "    }\n",
       "\n",
       "    .dataframe tbody tr th {\n",
       "        vertical-align: top;\n",
       "    }\n",
       "\n",
       "    .dataframe thead th {\n",
       "        text-align: right;\n",
       "    }\n",
       "</style>\n",
       "<table border=\"1\" class=\"dataframe\">\n",
       "  <thead>\n",
       "    <tr style=\"text-align: right;\">\n",
       "      <th></th>\n",
       "      <th>finishedsquarefeet12</th>\n",
       "      <th>calculatedfinishedsquarefeet</th>\n",
       "      <th>bedroomcnt</th>\n",
       "      <th>calculatedbathnbr</th>\n",
       "      <th>bathroomcnt</th>\n",
       "      <th>fullbathcnt</th>\n",
       "      <th>garagetotalsqft</th>\n",
       "      <th>roomcnt</th>\n",
       "      <th>garagecarcnt</th>\n",
       "      <th>basementsqft</th>\n",
       "      <th>buildingclasstypeid</th>\n",
       "      <th>longitude</th>\n",
       "      <th>fips</th>\n",
       "    </tr>\n",
       "  </thead>\n",
       "  <tbody>\n",
       "    <tr>\n",
       "      <th>0</th>\n",
       "      <td>3100.0</td>\n",
       "      <td>3100.0</td>\n",
       "      <td>4.0</td>\n",
       "      <td>3.5</td>\n",
       "      <td>3.5</td>\n",
       "      <td>3.0</td>\n",
       "      <td>633.000000</td>\n",
       "      <td>0.0</td>\n",
       "      <td>2.000000</td>\n",
       "      <td>679.72</td>\n",
       "      <td>3.933333</td>\n",
       "      <td>-117869207.0</td>\n",
       "      <td>6059.0</td>\n",
       "    </tr>\n",
       "    <tr>\n",
       "      <th>1</th>\n",
       "      <td>1465.0</td>\n",
       "      <td>1465.0</td>\n",
       "      <td>2.0</td>\n",
       "      <td>1.0</td>\n",
       "      <td>1.0</td>\n",
       "      <td>1.0</td>\n",
       "      <td>0.000000</td>\n",
       "      <td>5.0</td>\n",
       "      <td>1.000000</td>\n",
       "      <td>679.72</td>\n",
       "      <td>3.933333</td>\n",
       "      <td>-119281531.0</td>\n",
       "      <td>6111.0</td>\n",
       "    </tr>\n",
       "    <tr>\n",
       "      <th>2</th>\n",
       "      <td>1243.0</td>\n",
       "      <td>1243.0</td>\n",
       "      <td>3.0</td>\n",
       "      <td>2.0</td>\n",
       "      <td>2.0</td>\n",
       "      <td>2.0</td>\n",
       "      <td>440.000000</td>\n",
       "      <td>6.0</td>\n",
       "      <td>2.000000</td>\n",
       "      <td>679.72</td>\n",
       "      <td>3.933333</td>\n",
       "      <td>-117823170.0</td>\n",
       "      <td>6059.0</td>\n",
       "    </tr>\n",
       "    <tr>\n",
       "      <th>3</th>\n",
       "      <td>2376.0</td>\n",
       "      <td>2376.0</td>\n",
       "      <td>4.0</td>\n",
       "      <td>3.0</td>\n",
       "      <td>3.0</td>\n",
       "      <td>3.0</td>\n",
       "      <td>350.047061</td>\n",
       "      <td>0.0</td>\n",
       "      <td>1.815282</td>\n",
       "      <td>679.72</td>\n",
       "      <td>3.933333</td>\n",
       "      <td>-118240722.0</td>\n",
       "      <td>6037.0</td>\n",
       "    </tr>\n",
       "    <tr>\n",
       "      <th>4</th>\n",
       "      <td>1312.0</td>\n",
       "      <td>1312.0</td>\n",
       "      <td>3.0</td>\n",
       "      <td>3.0</td>\n",
       "      <td>3.0</td>\n",
       "      <td>3.0</td>\n",
       "      <td>350.047061</td>\n",
       "      <td>0.0</td>\n",
       "      <td>1.815282</td>\n",
       "      <td>679.72</td>\n",
       "      <td>3.933333</td>\n",
       "      <td>-118414640.0</td>\n",
       "      <td>6037.0</td>\n",
       "    </tr>\n",
       "  </tbody>\n",
       "</table>\n",
       "</div>"
      ],
      "text/plain": [
       "   finishedsquarefeet12  calculatedfinishedsquarefeet  bedroomcnt  \\\n",
       "0                3100.0                        3100.0         4.0   \n",
       "1                1465.0                        1465.0         2.0   \n",
       "2                1243.0                        1243.0         3.0   \n",
       "3                2376.0                        2376.0         4.0   \n",
       "4                1312.0                        1312.0         3.0   \n",
       "\n",
       "   calculatedbathnbr  bathroomcnt  fullbathcnt  garagetotalsqft  roomcnt  \\\n",
       "0                3.5          3.5          3.0       633.000000      0.0   \n",
       "1                1.0          1.0          1.0         0.000000      5.0   \n",
       "2                2.0          2.0          2.0       440.000000      6.0   \n",
       "3                3.0          3.0          3.0       350.047061      0.0   \n",
       "4                3.0          3.0          3.0       350.047061      0.0   \n",
       "\n",
       "   garagecarcnt  basementsqft  buildingclasstypeid    longitude    fips  \n",
       "0      2.000000        679.72             3.933333 -117869207.0  6059.0  \n",
       "1      1.000000        679.72             3.933333 -119281531.0  6111.0  \n",
       "2      2.000000        679.72             3.933333 -117823170.0  6059.0  \n",
       "3      1.815282        679.72             3.933333 -118240722.0  6037.0  \n",
       "4      1.815282        679.72             3.933333 -118414640.0  6037.0  "
      ]
     },
     "execution_count": 27,
     "metadata": {},
     "output_type": "execute_result"
    }
   ],
   "source": [
    "train_data_df = train_df[select_columns_features]\n",
    "y_train = train_y[int(len(train_df)*0.1): len(train_df)]\n",
    "X_train = train_data_df[int(len(train_df)*0.1): len(train_df)]\n",
    "\n",
    "(test_df, test_y) = (train_data_df[0:int(len(train_df)*0.1)], train_y[0:int(len(train_df)*0.1)])\n",
    "y_test = test_y\n",
    "X_test = test_df\n",
    "train_data_df.head()"
   ]
  },
  {
   "cell_type": "code",
   "execution_count": 29,
   "metadata": {},
   "outputs": [
    {
     "data": {
      "text/plain": [
       "GradientBoostingRegressor(alpha=0.9, criterion='friedman_mse', init=None,\n",
       "             learning_rate=0.01, loss='ls', max_depth=35,\n",
       "             max_features=None, max_leaf_nodes=None,\n",
       "             min_impurity_decrease=0.0, min_impurity_split=None,\n",
       "             min_samples_leaf=1, min_samples_split=2,\n",
       "             min_weight_fraction_leaf=0.0, n_estimators=20,\n",
       "             n_iter_no_change=None, presort='auto', random_state=0,\n",
       "             subsample=1.0, tol=0.0001, validation_fraction=0.1, verbose=0,\n",
       "             warm_start=False)"
      ]
     },
     "execution_count": 29,
     "metadata": {},
     "output_type": "execute_result"
    }
   ],
   "source": [
    "model = GradientBoostingRegressor(n_estimators = 20, learning_rate=0.01, max_depth=35, random_state=0, loss='ls')\n",
    "model.fit(X_train, y_train)"
   ]
  },
  {
   "cell_type": "code",
   "execution_count": 30,
   "metadata": {},
   "outputs": [
    {
     "name": "stdout",
     "output_type": "stream",
     "text": [
      "0.016185524925445914\n"
     ]
    }
   ],
   "source": [
    "print(mean_squared_error(y_test, model.predict(X_test)))"
   ]
  },
  {
   "cell_type": "code",
   "execution_count": 31,
   "metadata": {},
   "outputs": [
    {
     "data": {
      "image/png": "[encoded data removed]",
      "text/plain": [
       "<Figure size 432x288 with 1 Axes>"
      ]
     },
     "metadata": {},
     "output_type": "display_data"
    }
   ],
   "source": [
    "y_test_predicts = model.predict(X_test)[0:100]\n",
    "plt.figure(1)\n",
    "plt.plot(np.arange(100), y_test_predicts, 'bo', np.arange(100), y_test[0:100], 'g^')\n",
    "plt.show()"
   ]
  },
  {
   "cell_type": "code",
   "execution_count": 39,
   "metadata": {},
   "outputs": [
    {
     "data": {
      "text/plain": [
       "GradientBoostingRegressor(alpha=0.9, criterion='friedman_mse', init=None,\n",
       "             learning_rate=0.1, loss='ls', max_depth=35, max_features=None,\n",
       "             max_leaf_nodes=None, min_impurity_decrease=0.0,\n",
       "             min_impurity_split=None, min_samples_leaf=1,\n",
       "             min_samples_split=2, min_weight_fraction_leaf=0.0,\n",
       "             n_estimators=5, n_iter_no_change=None, presort='auto',\n",
       "             random_state=0, subsample=1.0, tol=0.0001,\n",
       "             validation_fraction=0.1, verbose=0, warm_start=False)"
      ]
     },
     "execution_count": 39,
     "metadata": {},
     "output_type": "execute_result"
    }
   ],
   "source": [
    "model = GradientBoostingRegressor(n_estimators = 5, learning_rate=0.1, max_depth=35, random_state=0, loss='ls')\n",
    "model.fit(X_train, y_train)"
   ]
  },
  {
   "cell_type": "code",
   "execution_count": 40,
   "metadata": {},
   "outputs": [
    {
     "name": "stdout",
     "output_type": "stream",
     "text": [
      "0.017130372340407155\n"
     ]
    }
   ],
   "source": [
    "print(mean_squared_error(y_test, model.predict(X_test)))"
   ]
  },
  {
   "cell_type": "code",
   "execution_count": 41,
   "metadata": {},
   "outputs": [
    {
     "data": {
      "image/png": "[encoded data removed]",
      "text/plain": [
       "<Figure size 432x288 with 1 Axes>"
      ]
     },
     "metadata": {},
     "output_type": "display_data"
    }
   ],
   "source": [
    "y_test_predicts = model.predict(X_test)[100:200]\n",
    "plt.figure(1)\n",
    "plt.plot(np.arange(100), y_test_predicts, 'bo', np.arange(100), y_test[100:200], 'g^')\n",
    "plt.show()"
   ]
  },
  {
   "cell_type": "code",
   "execution_count": 43,
   "metadata": {},
   "outputs": [
    {
     "name": "stdout",
     "output_type": "stream",
     "text": [
      "finishedsquarefeet12 : 0.04458437654847187\n",
      "calculatedfinishedsquarefeet : 0.04009675106018118\n",
      "bedroomcnt : 0.033205392488781\n",
      "calculatedbathnbr : 0.028883533452357654\n",
      "bathroomcnt : 0.027065219063879202\n",
      "fullbathcnt : 0.026391321986994426\n",
      "taxdelinquencyyear : -0.023927079111269477\n",
      "garagetotalsqft : 0.020214390195099314\n",
      "roomcnt : 0.01702950911937327\n",
      "garagecarcnt : 0.016021870040539527\n",
      "regionidcounty : -0.015008738361252997\n",
      "basementsqft : 0.013696666311620843\n",
      "buildingqualitytypeid : -0.013259950606916796\n",
      "buildingclasstypeid : 0.012809585584749044\n",
      "finishedsquarefeet15 : -0.01088050193216351\n",
      "longitude : 0.010628875463839631\n",
      "fips : 0.010354330104257091\n",
      "rawcensustractandblock : 0.010272907212325905\n",
      "threequarterbathnbr : 0.009850234901192348\n",
      "lotsizesquarefeet : 0.00940782043986878\n",
      "yardbuildingsqft17 : -0.008104927321023093\n",
      "latitude : -0.007885735359133603\n",
      "finishedsquarefeet50 : -0.006864095251253614\n",
      "censustractandblock : 0.0066515306973398336\n",
      "airconditioningtypeid : 0.006074959834760535\n",
      "propertylandusetypeid : -0.005855751716965174\n",
      "fireplacecnt : 0.005475921941755078\n",
      "finishedfloor1squarefeet : -0.005324437808943156\n",
      "structuretaxvaluedollarcnt : 0.005270972792120717\n",
      "regionidneighborhood : -0.004976423210687814\n",
      "yearbuilt : 0.004698354293916106\n",
      "heatingorsystemtypeid : -0.004454886922006509\n",
      "finishedsquarefeet13 : -0.004050781213979676\n",
      "numberofstories : 0.003367569365510138\n",
      "regionidcity : -0.002223061654853239\n",
      "landtaxvaluedollarcnt : -0.0018420030269213495\n",
      "finishedsquarefeet6 : 0.001701401154290321\n",
      "regionidzip : -0.0012100042055098066\n",
      "poolsizesum : 0.0010256658432084835\n",
      "yardbuildingsqft26 : -0.0009865981198931269\n",
      "taxamount : -0.0008140992779599053\n",
      "architecturalstyletypeid : -0.0005601968361064968\n",
      "taxvaluedollarcnt : 0.0005296782823924165\n",
      "unitcnt : 7.45152992987318e-05\n",
      "typeconstructiontypeid : -1.7702349030243537e-05\n"
     ]
    }
   ],
   "source": [
    "# Now we found that even we consider those features who have largest variance, we cannot get better result\n",
    "# so we can add more features which have largest absolute covariace with logerror\n",
    "nodes.sort(key=lambda x: abs(x.value), reverse = True)\n",
    "for node in nodes:\n",
    "    print(\"{} : {}\".format(node.col_name, node.value))"
   ]
  },
  {
   "cell_type": "code",
   "execution_count": 44,
   "metadata": {},
   "outputs": [
    {
     "data": {
      "text/plain": [
       "['finishedsquarefeet12',\n",
       " 'calculatedfinishedsquarefeet',\n",
       " 'bedroomcnt',\n",
       " 'calculatedbathnbr',\n",
       " 'bathroomcnt',\n",
       " 'fullbathcnt',\n",
       " 'taxdelinquencyyear',\n",
       " 'garagetotalsqft',\n",
       " 'roomcnt',\n",
       " 'garagecarcnt',\n",
       " 'regionidcounty',\n",
       " 'basementsqft',\n",
       " 'buildingqualitytypeid',\n",
       " 'buildingclasstypeid',\n",
       " 'finishedsquarefeet15',\n",
       " 'longitude',\n",
       " 'fips',\n",
       " 'rawcensustractandblock',\n",
       " 'threequarterbathnbr']"
      ]
     },
     "execution_count": 44,
     "metadata": {},
     "output_type": "execute_result"
    }
   ],
   "source": [
    "select_columns_features = []\n",
    "index = 0\n",
    "for node in nodes:\n",
    "    if index <= 18:\n",
    "        select_columns_features.append(node.col_name)\n",
    "    index += 1\n",
    "    \n",
    "select_columns_features"
   ]
  },
  {
   "cell_type": "code",
   "execution_count": 45,
   "metadata": {},
   "outputs": [
    {
     "data": {
      "text/html": [
       "<div>\n",
       "<style scoped>\n",
       "    .dataframe tbody tr th:only-of-type {\n",
       "        vertical-align: middle;\n",
       "    }\n",
       "\n",
       "    .dataframe tbody tr th {\n",
       "        vertical-align: top;\n",
       "    }\n",
       "\n",
       "    .dataframe thead th {\n",
       "        text-align: right;\n",
       "    }\n",
       "</style>\n",
       "<table border=\"1\" class=\"dataframe\">\n",
       "  <thead>\n",
       "    <tr style=\"text-align: right;\">\n",
       "      <th></th>\n",
       "      <th>finishedsquarefeet12</th>\n",
       "      <th>calculatedfinishedsquarefeet</th>\n",
       "      <th>bedroomcnt</th>\n",
       "      <th>calculatedbathnbr</th>\n",
       "      <th>bathroomcnt</th>\n",
       "      <th>fullbathcnt</th>\n",
       "      <th>taxdelinquencyyear</th>\n",
       "      <th>garagetotalsqft</th>\n",
       "      <th>roomcnt</th>\n",
       "      <th>garagecarcnt</th>\n",
       "      <th>regionidcounty</th>\n",
       "      <th>basementsqft</th>\n",
       "      <th>buildingqualitytypeid</th>\n",
       "      <th>buildingclasstypeid</th>\n",
       "      <th>finishedsquarefeet15</th>\n",
       "      <th>longitude</th>\n",
       "      <th>fips</th>\n",
       "      <th>rawcensustractandblock</th>\n",
       "      <th>threequarterbathnbr</th>\n",
       "    </tr>\n",
       "  </thead>\n",
       "  <tbody>\n",
       "    <tr>\n",
       "      <th>0</th>\n",
       "      <td>3100.0</td>\n",
       "      <td>3100.0</td>\n",
       "      <td>4.0</td>\n",
       "      <td>3.5</td>\n",
       "      <td>3.5</td>\n",
       "      <td>3.0</td>\n",
       "      <td>14.088276</td>\n",
       "      <td>633.000000</td>\n",
       "      <td>0.0</td>\n",
       "      <td>2.000000</td>\n",
       "      <td>1286.0</td>\n",
       "      <td>679.72</td>\n",
       "      <td>6.533779</td>\n",
       "      <td>3.933333</td>\n",
       "      <td>2354.491245</td>\n",
       "      <td>-117869207.0</td>\n",
       "      <td>6059.0</td>\n",
       "      <td>6.059063e+07</td>\n",
       "      <td>1.000000</td>\n",
       "    </tr>\n",
       "    <tr>\n",
       "      <th>1</th>\n",
       "      <td>1465.0</td>\n",
       "      <td>1465.0</td>\n",
       "      <td>2.0</td>\n",
       "      <td>1.0</td>\n",
       "      <td>1.0</td>\n",
       "      <td>1.0</td>\n",
       "      <td>14.088276</td>\n",
       "      <td>0.000000</td>\n",
       "      <td>5.0</td>\n",
       "      <td>1.000000</td>\n",
       "      <td>2061.0</td>\n",
       "      <td>679.72</td>\n",
       "      <td>6.533779</td>\n",
       "      <td>3.933333</td>\n",
       "      <td>2354.491245</td>\n",
       "      <td>-119281531.0</td>\n",
       "      <td>6111.0</td>\n",
       "      <td>6.111001e+07</td>\n",
       "      <td>1.009598</td>\n",
       "    </tr>\n",
       "    <tr>\n",
       "      <th>2</th>\n",
       "      <td>1243.0</td>\n",
       "      <td>1243.0</td>\n",
       "      <td>3.0</td>\n",
       "      <td>2.0</td>\n",
       "      <td>2.0</td>\n",
       "      <td>2.0</td>\n",
       "      <td>14.088276</td>\n",
       "      <td>440.000000</td>\n",
       "      <td>6.0</td>\n",
       "      <td>2.000000</td>\n",
       "      <td>1286.0</td>\n",
       "      <td>679.72</td>\n",
       "      <td>6.533779</td>\n",
       "      <td>3.933333</td>\n",
       "      <td>2354.491245</td>\n",
       "      <td>-117823170.0</td>\n",
       "      <td>6059.0</td>\n",
       "      <td>6.059022e+07</td>\n",
       "      <td>1.009598</td>\n",
       "    </tr>\n",
       "    <tr>\n",
       "      <th>3</th>\n",
       "      <td>2376.0</td>\n",
       "      <td>2376.0</td>\n",
       "      <td>4.0</td>\n",
       "      <td>3.0</td>\n",
       "      <td>3.0</td>\n",
       "      <td>3.0</td>\n",
       "      <td>14.088276</td>\n",
       "      <td>350.047061</td>\n",
       "      <td>0.0</td>\n",
       "      <td>1.815282</td>\n",
       "      <td>3101.0</td>\n",
       "      <td>679.72</td>\n",
       "      <td>8.000000</td>\n",
       "      <td>3.933333</td>\n",
       "      <td>2354.491245</td>\n",
       "      <td>-118240722.0</td>\n",
       "      <td>6037.0</td>\n",
       "      <td>6.037300e+07</td>\n",
       "      <td>1.009598</td>\n",
       "    </tr>\n",
       "    <tr>\n",
       "      <th>4</th>\n",
       "      <td>1312.0</td>\n",
       "      <td>1312.0</td>\n",
       "      <td>3.0</td>\n",
       "      <td>3.0</td>\n",
       "      <td>3.0</td>\n",
       "      <td>3.0</td>\n",
       "      <td>14.088276</td>\n",
       "      <td>350.047061</td>\n",
       "      <td>0.0</td>\n",
       "      <td>1.815282</td>\n",
       "      <td>3101.0</td>\n",
       "      <td>679.72</td>\n",
       "      <td>8.000000</td>\n",
       "      <td>3.933333</td>\n",
       "      <td>2354.491245</td>\n",
       "      <td>-118414640.0</td>\n",
       "      <td>6037.0</td>\n",
       "      <td>6.037124e+07</td>\n",
       "      <td>1.009598</td>\n",
       "    </tr>\n",
       "  </tbody>\n",
       "</table>\n",
       "</div>"
      ],
      "text/plain": [
       "   finishedsquarefeet12  calculatedfinishedsquarefeet  bedroomcnt  \\\n",
       "0                3100.0                        3100.0         4.0   \n",
       "1                1465.0                        1465.0         2.0   \n",
       "2                1243.0                        1243.0         3.0   \n",
       "3                2376.0                        2376.0         4.0   \n",
       "4                1312.0                        1312.0         3.0   \n",
       "\n",
       "   calculatedbathnbr  bathroomcnt  fullbathcnt  taxdelinquencyyear  \\\n",
       "0                3.5          3.5          3.0           14.088276   \n",
       "1                1.0          1.0          1.0           14.088276   \n",
       "2                2.0          2.0          2.0           14.088276   \n",
       "3                3.0          3.0          3.0           14.088276   \n",
       "4                3.0          3.0          3.0           14.088276   \n",
       "\n",
       "   garagetotalsqft  roomcnt  garagecarcnt  regionidcounty  basementsqft  \\\n",
       "0       633.000000      0.0      2.000000          1286.0        679.72   \n",
       "1         0.000000      5.0      1.000000          2061.0        679.72   \n",
       "2       440.000000      6.0      2.000000          1286.0        679.72   \n",
       "3       350.047061      0.0      1.815282          3101.0        679.72   \n",
       "4       350.047061      0.0      1.815282          3101.0        679.72   \n",
       "\n",
       "   buildingqualitytypeid  buildingclasstypeid  finishedsquarefeet15  \\\n",
       "0               6.533779             3.933333           2354.491245   \n",
       "1               6.533779             3.933333           2354.491245   \n",
       "2               6.533779             3.933333           2354.491245   \n",
       "3               8.000000             3.933333           2354.491245   \n",
       "4               8.000000             3.933333           2354.491245   \n",
       "\n",
       "     longitude    fips  rawcensustractandblock  threequarterbathnbr  \n",
       "0 -117869207.0  6059.0            6.059063e+07             1.000000  \n",
       "1 -119281531.0  6111.0            6.111001e+07             1.009598  \n",
       "2 -117823170.0  6059.0            6.059022e+07             1.009598  \n",
       "3 -118240722.0  6037.0            6.037300e+07             1.009598  \n",
       "4 -118414640.0  6037.0            6.037124e+07             1.009598  "
      ]
     },
     "execution_count": 45,
     "metadata": {},
     "output_type": "execute_result"
    }
   ],
   "source": [
    "train_data_df = train_df[select_columns_features]\n",
    "y_train = train_y[int(len(train_df)*0.1): len(train_df)]\n",
    "X_train = train_data_df[int(len(train_df)*0.1): len(train_df)]\n",
    "\n",
    "(test_df, test_y) = (train_data_df[0:int(len(train_df)*0.1)], train_y[0:int(len(train_df)*0.1)])\n",
    "y_test = test_y\n",
    "X_test = test_df\n",
    "train_data_df.head()"
   ]
  },
  {
   "cell_type": "code",
   "execution_count": 58,
   "metadata": {},
   "outputs": [
    {
     "data": {
      "text/plain": [
       "GradientBoostingRegressor(alpha=0.9, criterion='friedman_mse', init=None,\n",
       "             learning_rate=0.01, loss='ls', max_depth=20,\n",
       "             max_features=None, max_leaf_nodes=None,\n",
       "             min_impurity_decrease=0.0, min_impurity_split=None,\n",
       "             min_samples_leaf=1, min_samples_split=2,\n",
       "             min_weight_fraction_leaf=0.0, n_estimators=10,\n",
       "             n_iter_no_change=None, presort='auto', random_state=0,\n",
       "             subsample=1.0, tol=0.0001, validation_fraction=0.1, verbose=0,\n",
       "             warm_start=False)"
      ]
     },
     "execution_count": 58,
     "metadata": {},
     "output_type": "execute_result"
    }
   ],
   "source": [
    "model = GradientBoostingRegressor(n_estimators = 10, learning_rate=0.01, max_depth=20, random_state=0, loss='ls')\n",
    "model.fit(X_train, y_train)"
   ]
  },
  {
   "cell_type": "code",
   "execution_count": 59,
   "metadata": {},
   "outputs": [
    {
     "name": "stdout",
     "output_type": "stream",
     "text": [
      "0.01599242456077152\n"
     ]
    }
   ],
   "source": [
    "print(mean_squared_error(y_test, model.predict(X_test)))"
   ]
  },
  {
   "cell_type": "code",
   "execution_count": 60,
   "metadata": {},
   "outputs": [
    {
     "data": {
      "image/png": "[encoded data removed]",
      "text/plain": [
       "<Figure size 432x288 with 1 Axes>"
      ]
     },
     "metadata": {},
     "output_type": "display_data"
    }
   ],
   "source": [
    "y_test_predicts = model.predict(X_test)[100:200]\n",
    "plt.figure(1)\n",
    "plt.plot(np.arange(100), y_test_predicts, 'bo', np.arange(100), y_test[100:200], 'g^')\n",
    "plt.show()"
   ]
  },
  {
   "cell_type": "code",
   "execution_count": 65,
   "metadata": {},
   "outputs": [
    {
     "data": {
      "text/plain": [
       "AdaBoostRegressor(base_estimator=DecisionTreeRegressor(criterion='mse', max_depth=20, max_features=None,\n",
       "           max_leaf_nodes=None, min_impurity_decrease=0.0,\n",
       "           min_impurity_split=None, min_samples_leaf=1,\n",
       "           min_samples_split=2, min_weight_fraction_leaf=0.0,\n",
       "           presort=False, random_state=None, splitter='best'),\n",
       "         learning_rate=1.0, loss='linear', n_estimators=300,\n",
       "         random_state=1)"
      ]
     },
     "execution_count": 65,
     "metadata": {},
     "output_type": "execute_result"
    }
   ],
   "source": [
    "# looks like gradient boosting tree regression should work in this case, but we need to confirm our result using more models!\n",
    "# we need to construct a new model to study this algorithm， how about adaboost plus decision tree\n",
    "from sklearn.tree import DecisionTreeRegressor\n",
    "from sklearn.ensemble import AdaBoostRegressor\n",
    "regr_1 = DecisionTreeRegressor(max_depth=20)\n",
    "regr_2 = AdaBoostRegressor(DecisionTreeRegressor(max_depth=20),\n",
    "                          n_estimators=300, random_state=1)\n",
    "\n",
    "regr_1.fit(X_train, y_train)\n",
    "regr_2.fit(X_train, y_train)"
   ]
  },
  {
   "cell_type": "code",
   "execution_count": 66,
   "metadata": {},
   "outputs": [
    {
     "name": "stdout",
     "output_type": "stream",
     "text": [
      "0.021273486707590866\n",
      "0.016951678638327763\n"
     ]
    }
   ],
   "source": [
    "print(mean_squared_error(y_test, regr_1.predict(X_test)))\n",
    "print(mean_squared_error(y_test, regr_2.predict(X_test)))"
   ]
  },
  {
   "cell_type": "code",
   "execution_count": 67,
   "metadata": {},
   "outputs": [
    {
     "data": {
      "image/png": "[encoded data removed]",
      "text/plain": [
       "<Figure size 432x288 with 1 Axes>"
      ]
     },
     "metadata": {},
     "output_type": "display_data"
    }
   ],
   "source": [
    "y_train_predicts = regr_1.predict(X_train)[100:200]\n",
    "plt.figure(1)\n",
    "plt.plot(np.arange(100), y_test_predicts, 'bo', np.arange(100), y_train[100:200], 'g^')\n",
    "plt.show()"
   ]
  },
  {
   "cell_type": "code",
   "execution_count": 68,
   "metadata": {},
   "outputs": [
    {
     "data": {
      "image/png": "[encoded data removed]",
      "text/plain": [
       "<Figure size 432x288 with 1 Axes>"
      ]
     },
     "metadata": {},
     "output_type": "display_data"
    }
   ],
   "source": [
    "y_test_predicts = regr_2.predict(X_test)[100:200]\n",
    "plt.figure(1)\n",
    "plt.plot(np.arange(100), y_test_predicts, 'bo', np.arange(100), y_test[100:200], 'g^')\n",
    "plt.show()"
   ]
  },
  {
   "cell_type": "code",
   "execution_count": 70,
   "metadata": {},
   "outputs": [
    {
     "data": {
      "image/png": "[encoded data removed]",
      "text/plain": [
       "<Figure size 432x288 with 1 Axes>"
      ]
     },
     "metadata": {},
     "output_type": "display_data"
    }
   ],
   "source": [
    "y_train_predicts = regr_2.predict(X_train)[100:200]\n",
    "plt.figure(1)\n",
    "plt.plot(np.arange(100), y_test_predicts, 'bo', np.arange(100), y_train[100:200], 'g^')\n",
    "plt.show()"
   ]
  },
  {
   "cell_type": "code",
   "execution_count": 82,
   "metadata": {},
   "outputs": [
    {
     "name": "stdout",
     "output_type": "stream",
     "text": [
      "finishedsquarefeet12 : 0.04458437654847187\n",
      "calculatedfinishedsquarefeet : 0.04009675106018118\n",
      "bedroomcnt : 0.033205392488781\n",
      "calculatedbathnbr : 0.028883533452357654\n",
      "bathroomcnt : 0.027065219063879202\n",
      "fullbathcnt : 0.026391321986994426\n",
      "taxdelinquencyyear : -0.023927079111269477\n",
      "garagetotalsqft : 0.020214390195099314\n",
      "roomcnt : 0.01702950911937327\n",
      "garagecarcnt : 0.016021870040539527\n",
      "regionidcounty : -0.015008738361252997\n",
      "basementsqft : 0.013696666311620843\n",
      "buildingqualitytypeid : -0.013259950606916796\n",
      "buildingclasstypeid : 0.012809585584749044\n",
      "finishedsquarefeet15 : -0.01088050193216351\n",
      "longitude : 0.010628875463839631\n",
      "fips : 0.010354330104257091\n",
      "rawcensustractandblock : 0.010272907212325905\n",
      "threequarterbathnbr : 0.009850234901192348\n",
      "lotsizesquarefeet : 0.00940782043986878\n",
      "yardbuildingsqft17 : -0.008104927321023093\n",
      "latitude : -0.007885735359133603\n",
      "finishedsquarefeet50 : -0.006864095251253614\n",
      "censustractandblock : 0.0066515306973398336\n",
      "airconditioningtypeid : 0.006074959834760535\n",
      "propertylandusetypeid : -0.005855751716965174\n",
      "fireplacecnt : 0.005475921941755078\n",
      "finishedfloor1squarefeet : -0.005324437808943156\n",
      "structuretaxvaluedollarcnt : 0.005270972792120717\n",
      "regionidneighborhood : -0.004976423210687814\n",
      "yearbuilt : 0.004698354293916106\n",
      "heatingorsystemtypeid : -0.004454886922006509\n",
      "finishedsquarefeet13 : -0.004050781213979676\n",
      "numberofstories : 0.003367569365510138\n",
      "regionidcity : -0.002223061654853239\n",
      "landtaxvaluedollarcnt : -0.0018420030269213495\n",
      "finishedsquarefeet6 : 0.001701401154290321\n",
      "regionidzip : -0.0012100042055098066\n",
      "poolsizesum : 0.0010256658432084835\n",
      "yardbuildingsqft26 : -0.0009865981198931269\n",
      "taxamount : -0.0008140992779599053\n",
      "architecturalstyletypeid : -0.0005601968361064968\n",
      "taxvaluedollarcnt : 0.0005296782823924165\n",
      "unitcnt : 7.45152992987318e-05\n",
      "typeconstructiontypeid : -1.7702349030243537e-05\n"
     ]
    }
   ],
   "source": [
    "for node in nodes:\n",
    "    print(\"{} : {}\".format(node.col_name, node.value))"
   ]
  },
  {
   "cell_type": "code",
   "execution_count": null,
   "metadata": {
    "collapsed": true
   },
   "outputs": [],
   "source": []
  }
 ],
 "metadata": {
  "kernelspec": {
   "display_name": "Python 3",
   "language": "python",
   "name": "python3"
  },
  "language_info": {
   "codemirror_mode": {
    "name": "ipython",
    "version": 3
   },
   "file_extension": ".py",
   "mimetype": "text/x-python",
   "name": "python",
   "nbconvert_exporter": "python",
   "pygments_lexer": "ipython3",
   "version": "3.5.2"
  },
  "toc": {
   "colors": {
    "hover_highlight": "#DAA520",
    "navigate_num": "#000000",
    "navigate_text": "#333333",
    "running_highlight": "#FF0000",
    "selected_highlight": "#FFD700",
    "sidebar_border": "#EEEEEE",
    "wrapper_background": "#FFFFFF"
   },
   "moveMenuLeft": true,
   "nav_menu": {
    "height": "12px",
    "width": "252px"
   },
   "navigate_menu": true,
   "number_sections": true,
   "sideBar": true,
   "threshold": 4,
   "toc_cell": false,
   "toc_section_display": "block",
   "toc_window_display": false,
   "widenNotebook": false
  }
 },
 "nbformat": 4,
 "nbformat_minor": 2
}
